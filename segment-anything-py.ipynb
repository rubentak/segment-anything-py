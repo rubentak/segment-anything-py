{
 "cells": [
  {
   "cell_type": "markdown",
   "source": [
    "# Segment-anything-py\n",
    "\n",
    "[Docs](https://pypi.org/project/segment-anything-py/)"
   ],
   "metadata": {
    "collapsed": false
   }
  },
  {
   "cell_type": "code",
   "execution_count": 1,
   "metadata": {
    "collapsed": true,
    "ExecuteTime": {
     "start_time": "2023-05-08T11:56:35.248444Z",
     "end_time": "2023-05-08T11:56:40.193348Z"
    }
   },
   "outputs": [
    {
     "name": "stdout",
     "output_type": "stream",
     "text": [
      "Collecting segment-anything-py\r\n",
      "  Downloading segment_anything_py-1.0-py3-none-any.whl (40 kB)\r\n",
      "\u001B[2K     \u001B[90m━━━━━━━━━━━━━━━━━━━━━━━━━━━━━━━━━━━━━━━━\u001B[0m \u001B[32m40.2/40.2 kB\u001B[0m \u001B[31m1.0 MB/s\u001B[0m eta \u001B[36m0:00:00\u001B[0m\r\n",
      "\u001B[?25hRequirement already satisfied: torch>=1.7 in /Users/erictak/miniconda3/lib/python3.10/site-packages (from segment-anything-py) (2.0.0)\r\n",
      "Requirement already satisfied: torchvision>=0.8 in /Users/erictak/miniconda3/lib/python3.10/site-packages (from segment-anything-py) (0.15.1)\r\n",
      "Requirement already satisfied: filelock in /Users/erictak/miniconda3/lib/python3.10/site-packages (from torch>=1.7->segment-anything-py) (3.12.0)\r\n",
      "Requirement already satisfied: typing-extensions in /Users/erictak/miniconda3/lib/python3.10/site-packages (from torch>=1.7->segment-anything-py) (4.4.0)\r\n",
      "Requirement already satisfied: sympy in /Users/erictak/miniconda3/lib/python3.10/site-packages (from torch>=1.7->segment-anything-py) (1.11.1)\r\n",
      "Requirement already satisfied: networkx in /Users/erictak/miniconda3/lib/python3.10/site-packages (from torch>=1.7->segment-anything-py) (2.8.4)\r\n",
      "Requirement already satisfied: jinja2 in /Users/erictak/miniconda3/lib/python3.10/site-packages (from torch>=1.7->segment-anything-py) (3.1.2)\r\n",
      "Requirement already satisfied: numpy in /Users/erictak/miniconda3/lib/python3.10/site-packages (from torchvision>=0.8->segment-anything-py) (1.23.5)\r\n",
      "Requirement already satisfied: requests in /Users/erictak/miniconda3/lib/python3.10/site-packages (from torchvision>=0.8->segment-anything-py) (2.28.1)\r\n",
      "Requirement already satisfied: pillow!=8.3.*,>=5.3.0 in /Users/erictak/miniconda3/lib/python3.10/site-packages (from torchvision>=0.8->segment-anything-py) (9.4.0)\r\n",
      "Requirement already satisfied: MarkupSafe>=2.0 in /Users/erictak/miniconda3/lib/python3.10/site-packages (from jinja2->torch>=1.7->segment-anything-py) (2.1.1)\r\n",
      "Requirement already satisfied: charset-normalizer<3,>=2 in /Users/erictak/miniconda3/lib/python3.10/site-packages (from requests->torchvision>=0.8->segment-anything-py) (2.0.4)\r\n",
      "Requirement already satisfied: idna<4,>=2.5 in /Users/erictak/miniconda3/lib/python3.10/site-packages (from requests->torchvision>=0.8->segment-anything-py) (3.4)\r\n",
      "Requirement already satisfied: urllib3<1.27,>=1.21.1 in /Users/erictak/miniconda3/lib/python3.10/site-packages (from requests->torchvision>=0.8->segment-anything-py) (1.26.15)\r\n",
      "Requirement already satisfied: certifi>=2017.4.17 in /Users/erictak/miniconda3/lib/python3.10/site-packages (from requests->torchvision>=0.8->segment-anything-py) (2022.12.7)\r\n",
      "Requirement already satisfied: mpmath>=0.19 in /Users/erictak/miniconda3/lib/python3.10/site-packages (from sympy->torch>=1.7->segment-anything-py) (1.3.0)\r\n",
      "Installing collected packages: segment-anything-py\r\n",
      "Successfully installed segment-anything-py-1.0\r\n"
     ]
    }
   ],
   "source": [
    "!pip install segment-anything-py"
   ]
  },
  {
   "cell_type": "code",
   "execution_count": 2,
   "outputs": [
    {
     "name": "stdout",
     "output_type": "stream",
     "text": [
      "Collecting opencv-python\r\n",
      "  Downloading opencv_python-4.7.0.72-cp37-abi3-macosx_10_16_x86_64.whl (53.9 MB)\r\n",
      "\u001B[2K     \u001B[90m━━━━━━━━━━━━━━━━━━━━━━━━━━━━━━━━━━━━━━━━\u001B[0m \u001B[32m53.9/53.9 MB\u001B[0m \u001B[31m7.3 MB/s\u001B[0m eta \u001B[36m0:00:00\u001B[0m00:01\u001B[0m00:01\u001B[0mm\r\n",
      "\u001B[?25hCollecting pycocotools\r\n",
      "  Downloading pycocotools-2.0.6.tar.gz (24 kB)\r\n",
      "  Installing build dependencies ... \u001B[?25ldone\r\n",
      "\u001B[?25h  Getting requirements to build wheel ... \u001B[?25ldone\r\n",
      "\u001B[?25h  Preparing metadata (pyproject.toml) ... \u001B[?25ldone\r\n",
      "\u001B[?25hRequirement already satisfied: matplotlib in /Users/erictak/miniconda3/lib/python3.10/site-packages (3.7.1)\r\n",
      "Collecting onnxruntime\r\n",
      "  Downloading onnxruntime-1.14.1-cp310-cp310-macosx_10_15_x86_64.whl (6.6 MB)\r\n",
      "\u001B[2K     \u001B[90m━━━━━━━━━━━━━━━━━━━━━━━━━━━━━━━━━━━━━━━━\u001B[0m \u001B[32m6.6/6.6 MB\u001B[0m \u001B[31m10.9 MB/s\u001B[0m eta \u001B[36m0:00:00\u001B[0ma \u001B[36m0:00:01\u001B[0m\r\n",
      "\u001B[?25hCollecting onnx\r\n",
      "  Downloading onnx-1.14.0-cp310-cp310-macosx_10_12_x86_64.whl (13.8 MB)\r\n",
      "\u001B[2K     \u001B[90m━━━━━━━━━━━━━━━━━━━━━━━━━━━━━━━━━━━━━━━━\u001B[0m \u001B[32m13.8/13.8 MB\u001B[0m \u001B[31m17.4 MB/s\u001B[0m eta \u001B[36m0:00:00\u001B[0m00:01\u001B[0m00:01\u001B[0m\r\n",
      "\u001B[?25hRequirement already satisfied: numpy>=1.21.2 in /Users/erictak/miniconda3/lib/python3.10/site-packages (from opencv-python) (1.23.5)\r\n",
      "Requirement already satisfied: contourpy>=1.0.1 in /Users/erictak/miniconda3/lib/python3.10/site-packages (from matplotlib) (1.0.7)\r\n",
      "Requirement already satisfied: cycler>=0.10 in /Users/erictak/miniconda3/lib/python3.10/site-packages (from matplotlib) (0.11.0)\r\n",
      "Requirement already satisfied: fonttools>=4.22.0 in /Users/erictak/miniconda3/lib/python3.10/site-packages (from matplotlib) (4.39.2)\r\n",
      "Requirement already satisfied: kiwisolver>=1.0.1 in /Users/erictak/miniconda3/lib/python3.10/site-packages (from matplotlib) (1.4.4)\r\n",
      "Requirement already satisfied: packaging>=20.0 in /Users/erictak/miniconda3/lib/python3.10/site-packages (from matplotlib) (23.0)\r\n",
      "Requirement already satisfied: pillow>=6.2.0 in /Users/erictak/miniconda3/lib/python3.10/site-packages (from matplotlib) (9.4.0)\r\n",
      "Requirement already satisfied: pyparsing>=2.3.1 in /Users/erictak/miniconda3/lib/python3.10/site-packages (from matplotlib) (3.0.9)\r\n",
      "Requirement already satisfied: python-dateutil>=2.7 in /Users/erictak/miniconda3/lib/python3.10/site-packages (from matplotlib) (2.8.2)\r\n",
      "Collecting coloredlogs (from onnxruntime)\r\n",
      "  Downloading coloredlogs-15.0.1-py2.py3-none-any.whl (46 kB)\r\n",
      "\u001B[2K     \u001B[90m━━━━━━━━━━━━━━━━━━━━━━━━━━━━━━━━━━━━━━━━\u001B[0m \u001B[32m46.0/46.0 kB\u001B[0m \u001B[31m3.1 MB/s\u001B[0m eta \u001B[36m0:00:00\u001B[0m\r\n",
      "\u001B[?25hRequirement already satisfied: flatbuffers in /Users/erictak/miniconda3/lib/python3.10/site-packages (from onnxruntime) (23.3.3)\r\n",
      "Requirement already satisfied: protobuf in /Users/erictak/miniconda3/lib/python3.10/site-packages (from onnxruntime) (3.20.3)\r\n",
      "Requirement already satisfied: sympy in /Users/erictak/miniconda3/lib/python3.10/site-packages (from onnxruntime) (1.11.1)\r\n",
      "Requirement already satisfied: typing-extensions>=3.6.2.1 in /Users/erictak/miniconda3/lib/python3.10/site-packages (from onnx) (4.4.0)\r\n",
      "Requirement already satisfied: six>=1.5 in /Users/erictak/miniconda3/lib/python3.10/site-packages (from python-dateutil>=2.7->matplotlib) (1.16.0)\r\n",
      "Collecting humanfriendly>=9.1 (from coloredlogs->onnxruntime)\r\n",
      "  Downloading humanfriendly-10.0-py2.py3-none-any.whl (86 kB)\r\n",
      "\u001B[2K     \u001B[90m━━━━━━━━━━━━━━━━━━━━━━━━━━━━━━━━━━━━━━━━\u001B[0m \u001B[32m86.8/86.8 kB\u001B[0m \u001B[31m4.6 MB/s\u001B[0m eta \u001B[36m0:00:00\u001B[0m\r\n",
      "\u001B[?25hRequirement already satisfied: mpmath>=0.19 in /Users/erictak/miniconda3/lib/python3.10/site-packages (from sympy->onnxruntime) (1.3.0)\r\n",
      "Building wheels for collected packages: pycocotools\r\n",
      "  Building wheel for pycocotools (pyproject.toml) ... \u001B[?25ldone\r\n",
      "\u001B[?25h  Created wheel for pycocotools: filename=pycocotools-2.0.6-cp310-cp310-macosx_10_9_x86_64.whl size=87331 sha256=c422eb8edd8503fae46077a1ae86bf37bdf114dc5659141584247b1c55f44a23\r\n",
      "  Stored in directory: /Users/erictak/Library/Caches/pip/wheels/58/e6/f9/f87c8f8be098b51b616871315318329cae12cdb618f4caac93\r\n",
      "Successfully built pycocotools\r\n",
      "Installing collected packages: opencv-python, onnx, humanfriendly, coloredlogs, pycocotools, onnxruntime\r\n",
      "Successfully installed coloredlogs-15.0.1 humanfriendly-10.0 onnx-1.14.0 onnxruntime-1.14.1 opencv-python-4.7.0.72 pycocotools-2.0.6\r\n"
     ]
    }
   ],
   "source": [
    "# other dependencies\n",
    "! pip install opencv-python pycocotools matplotlib onnxruntime onnx"
   ],
   "metadata": {
    "collapsed": false,
    "ExecuteTime": {
     "start_time": "2023-05-08T11:57:42.188751Z",
     "end_time": "2023-05-08T11:58:14.913487Z"
    }
   }
  },
  {
   "cell_type": "code",
   "execution_count": 3,
   "outputs": [
    {
     "ename": "KeyError",
     "evalue": "'<model_type>'",
     "output_type": "error",
     "traceback": [
      "\u001B[0;31m---------------------------------------------------------------------------\u001B[0m",
      "\u001B[0;31mKeyError\u001B[0m                                  Traceback (most recent call last)",
      "Cell \u001B[0;32mIn[3], line 2\u001B[0m\n\u001B[1;32m      1\u001B[0m \u001B[38;5;28;01mfrom\u001B[39;00m \u001B[38;5;21;01msegment_anything\u001B[39;00m \u001B[38;5;28;01mimport\u001B[39;00m SamPredictor, sam_model_registry\n\u001B[0;32m----> 2\u001B[0m sam \u001B[38;5;241m=\u001B[39m \u001B[43msam_model_registry\u001B[49m\u001B[43m[\u001B[49m\u001B[38;5;124;43m\"\u001B[39;49m\u001B[38;5;124;43m<model_type>\u001B[39;49m\u001B[38;5;124;43m\"\u001B[39;49m\u001B[43m]\u001B[49m(checkpoint\u001B[38;5;241m=\u001B[39m\u001B[38;5;124m\"\u001B[39m\u001B[38;5;124msam_vit_h_4b8939.pth\u001B[39m\u001B[38;5;124m\"\u001B[39m)\n\u001B[1;32m      3\u001B[0m predictor \u001B[38;5;241m=\u001B[39m SamPredictor(sam)\n\u001B[1;32m      4\u001B[0m predictor\u001B[38;5;241m.\u001B[39mset_image(\u001B[38;5;124m'\u001B[39m\u001B[38;5;124mbreakfast.jpg\u001B[39m\u001B[38;5;124m'\u001B[39m)\n",
      "\u001B[0;31mKeyError\u001B[0m: '<model_type>'"
     ]
    }
   ],
   "source": [
    "from segment_anything import SamPredictor, sam_model_registry\n",
    "sam = sam_model_registry[\"<model_type>\"](checkpoint=\"<path/to/checkpoint>\")\n",
    "predictor = SamPredictor(sam)\n",
    "predictor.set_image(<your_image>)\n",
    "masks, _, _ = predictor.predict(<input_prompts>)"
   ],
   "metadata": {
    "collapsed": false
   }
  }
 ],
 "metadata": {
  "kernelspec": {
   "display_name": "Python 3",
   "language": "python",
   "name": "python3"
  },
  "language_info": {
   "codemirror_mode": {
    "name": "ipython",
    "version": 2
   },
   "file_extension": ".py",
   "mimetype": "text/x-python",
   "name": "python",
   "nbconvert_exporter": "python",
   "pygments_lexer": "ipython2",
   "version": "2.7.6"
  }
 },
 "nbformat": 4,
 "nbformat_minor": 0
}
